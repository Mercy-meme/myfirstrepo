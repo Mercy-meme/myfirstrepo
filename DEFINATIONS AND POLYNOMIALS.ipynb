{
 "cells": [
  {
   "cell_type": "code",
   "execution_count": 1,
   "id": "a3ba6359",
   "metadata": {},
   "outputs": [],
   "source": [
    "import math as m"
   ]
  },
  {
   "cell_type": "markdown",
   "id": "5507eeb0",
   "metadata": {},
   "source": [
    "### The difference btwn objects and classes\n",
    "##### Objects, An object is a class instance that allows programmers to use variables and methods from inside the class. When objects are created, memory is allocated to them in the heap memory. Objects can be manipulated. An object is a physical entity. Objects are created through new keyword like Dog d = new Dog();. We can also create an object using the newInstance() method, clone() method, fatory method and using deserialization. If Mobile is the class then iphone, redmi, blackberry, samsung are its objects which have different properties and behaviours.\n",
    "\n",
    "## whereas\n",
    "\n",
    "#### Classes, A class is a blueprint for declaring and creating objects. Memory is not allocated to classes. Classes have no physical existence. We cannot manipulate class as it is not available in memory. Class is a logical entity. Class is created using the class keyword like class Dog{}.  Example: Mobile is a class."
   ]
  },
  {
   "cell_type": "markdown",
   "id": "2794b3d4",
   "metadata": {},
   "source": [
    "### The difference loc objects and iloc\n",
    "##### loc, \n",
    "-DataFrame.loc[] is label-based to select rows and/or columns in pandas. It accepts single labels, multiple labels from the list, indexes by a range (between two indexes labels), and many more. The end index is excluded during slicing\n",
    "\n",
    "\n",
    "### whereas\n",
    "\n",
    "#### iloc, \n",
    "-DataFrame.iloc[] is a index-based to select rows and/or columns in pandas. It accepts a single index, multiple indexes from the list, indexes by a range, and many more. The end index is included during slicing\n"
   ]
  },
  {
   "cell_type": "markdown",
   "id": "4b23e810",
   "metadata": {},
   "source": [
    "### The difference append objects and insert\n",
    "##### Append, \n",
    "Append method adds a new element at the end of the list. The length of the list increases by one.\n",
    "For example  new_list = [ 'a','b']\n",
    "\n",
    "                 new_list.append( 'c' )\n",
    "\n",
    "                 print(new_list)\n",
    "\n",
    "Output:- [ 'a','b','c' ]\n",
    "\n",
    "\n",
    "### whereas\n",
    "\n",
    "#### insert, \n",
    "- Insert method is the method which inserts a given element at a given index in a list.\n",
    "- Syntax:- list_name.insert(index, element)\n",
    "\n",
    "- Example:-\n",
    "\n",
    " new_list= [1,2,3,6,5,4 ]\n",
    "\n",
    " new_list.insert(4,10)\n",
    "\n",
    " print(new_list)\n",
    "\n",
    " Output:- [1,2,3,6,10,5,4]\n",
    "- With insert(position, new_entry) you can create a new entry exactly in the position you want."
   ]
  },
  {
   "cell_type": "markdown",
   "id": "e50860f0",
   "metadata": {},
   "source": [
    "### The difference loc objects and iloc\n",
    "##### break,\n",
    "- It terminates the current working loop and passes the control to the next statement, and if the break statement resides inside   the nested loop, it passes control to the outer loop. It can be used with both while and for loops. \n",
    "- example \n",
    "- for i in range(10): \n",
    " -     #if i is equal to 6 \n",
    " -     #break statement terminate the current working loop   \n",
    " -     if i == 6: \n",
    "             break \n",
    "       else: \n",
    "              print (i)\n",
    "- output:  \n",
    "\n",
    "0  \n",
    "1  \n",
    "2  \n",
    "3  \n",
    "4  \n",
    "5 \n",
    "- If the looping statement contains a break statement, the iteration will terminate, and then the current loop will exit. \n",
    "\n",
    "## whereas\n",
    "\n",
    "#### continue,\n",
    "- But when it comes to the working of the continue statement, it works just opposite to the break statement. Instead of terminating certain conditions, it jumps off to the very next condition. But it will continue the execution of the loop statement as per its name.\n",
    "- If the looping statement contains a continue statement, the iteration will skip the condition statement and then jump to the next iteration statement\n",
    "for i in range(10): \n",
    "       # if i is equal to 2 \n",
    "       # continue statement will skip   \n",
    "       #and start executing next iteration \n",
    "       if i == 2: \n",
    "             continue \n",
    "        else: \n",
    "              print (i)\n",
    "ouput;0  \n",
    "1  \n",
    "3  \n",
    "4  \n",
    "5  \n",
    "6  \n",
    "7  \n",
    "8  \n",
    "9  \n",
    "except the i=2"
   ]
  },
  {
   "cell_type": "markdown",
   "id": "90114dbe",
   "metadata": {},
   "source": [
    "### The difference loc objects and iloc\n",
    "##### identation error,\n",
    "- occurs when there is a wrong indentation\n",
    "- Python follows the PEP8 whitespace ethics while arranging its code and therefore it is suggested that there should be 4 whitespaces between every iteration and any alternative that doesn’t have this will return an error.\n",
    "\n",
    "## whereas\n",
    "\n",
    "#### syntax error,\n",
    "- A syntax error in Python is an error that occurs when the code is not written in the correct format, according to the rules of the Python programming language. These errors occur when the structure of the code is not valid and the interpreter is not able to understand the intended meaning of the code. Syntax errors can occur for a variety of reasons, including missing punctuation, incorrect indentation, or using the wrong type of quotes. These errors can prevent the code from running and must be fixed before the code can be executed successfully."
   ]
  },
  {
   "cell_type": "markdown",
   "id": "a2a6a949",
   "metadata": {},
   "source": [
    "### The difference loc objects and iloc\n",
    "##### for, \n",
    "- A for loop is a control flow statement that executes code repeatedly for a particular number of iterations. Number of iterations already known. Loop runs infinite times. Once done cannot be repeated. To be done at starting of the loop. More efficient when iterating over sequences due to predetermined iterations.\n",
    "- example \n",
    "- n = [1, 2, 3]  # Initialization\n",
    "- for i in n:  # Condition and Updation\n",
    "-    print(i)\n",
    "- output: \n",
    "1\n",
    "2\n",
    "3\n",
    "\n",
    "\n",
    "\n",
    "## whereas\n",
    "\n",
    "#### while, \n",
    "A loop that executes a single statement or a group of statements for the given true condition. No prior information on the number of iterations.In absence of condition Display the compile time error. Repeat at every iteration. Can be done anywhere in the loop body. Used for more dynamic scenarios where conditions dictate loop continuation.\n",
    "\n",
    "exampe\n",
    "- i = 1  # Initialization\n",
    "- while i < 6:  # Condition\n",
    "-    print(i)\n",
    "-    i += 1  # Updation\n",
    "-  ouput1\n",
    "2\n",
    "3\n",
    "4\n",
    "5"
   ]
  },
  {
   "cell_type": "markdown",
   "id": "22c2553b",
   "metadata": {},
   "source": [
    "### The difference loc objects and iloc\n",
    "##### set, \n",
    "\n",
    "\n",
    "## whereas\n",
    "\n",
    "#### dictionary, "
   ]
  },
  {
   "cell_type": "markdown",
   "id": "e2dbee49",
   "metadata": {},
   "source": [
    "### The difference loc objects and iloc\n",
    "##### pandas, \n",
    "- Pandas is mostly used for data analysis tasks in Python. Pandas library works well for numeric, alphabets, and heterogeneous types of data simultaneously. If the number of rows of the dataset is more than five hundred thousand (500K), then the performance of Pandas is better than NumPy.DataFrames and Series are the most powerful tools for Pandas. Pandas consume more memory compared to NumPy. DataFrames are the two-dimensional (2d) Objects provided by Pandas.\n",
    "\n",
    "\n",
    "## whereas\n",
    "\n",
    "#### numpy, \n",
    "- NumPy is mostly used for working with Numerical values as it makes it easy to apply mathematical functions. Numpy library works better with only numerical data, has efficient storage, and fastly performs mathematical operations on array-based and array-based matrix-based numeric values. NumPy can be said to be faster in performance than Pandas, up to fifty thousand (50K) rows and less of the dataset.  (The performance between fifty thousand rows to five hundred thousand rows mostly depends on the type of operation Pandas, and NumPy are going to have to perform.) Arrays are the most powerful tool of NumPy. NumPy has lesser memory consumption compared to Pandas. NumPy provides n-dimensional arrays, Data Type (dtype), etc. as objects."
   ]
  },
  {
   "cell_type": "markdown",
   "id": "3a6ad42c",
   "metadata": {},
   "source": [
    "### Print and Return:\n",
    "\n",
    "- Print: The print() function is used to display output on the console. It is commonly used for debugging or providing information to the user. When you use print(), the output is displayed on the console, but it doesn't affect the program's flow.\n",
    "- Return: The return statement is used to send a value back from a function. It allows a function to provide a result that can be stored in a variable or used in further computations. When a function encounters a return statement, it exits immediately, and the value is passed back to the caller.\n",
    "- python\n",
    "\n",
    "- def add_numbers(x, y):\n",
    "    print(x + y)  # Output: 8\n",
    "    return x + y\n",
    "\n",
    "- result = add_numbers(3, 5)\n",
    "- print(result)   # Output: 8"
   ]
  },
  {
   "cell_type": "markdown",
   "id": "19da4ab5",
   "metadata": {},
   "source": [
    "Dictionary and Set:\n",
    "\n",
    "Dictionary: A dictionary is an unordered collection of key-value pairs. Each key in the dictionary must be unique, and it is used to access its corresponding value. Dictionaries are defined using curly braces {} and consist of comma-separated key-value pairs, where the key and value are separated by a colon :. For example: {\"name\": \"John\", \"age\": 25}.\n",
    "Set: A set is an unordered collection of unique elements. It does not allow duplicate values. Sets are defined using curly braces {} or by using the set() function. For example: {1, 2, 3, 4}.\n",
    "python\n",
    "\n",
    "# Dictionary\n",
    "student = {\"name\": \"John\", \"age\": 25}\n",
    "print(student[\"name\"])  # Output: John\n",
    "\n",
    "# Set\n",
    "numbers = {1, 2, 3, 4, 4}\n",
    "print(numbers)          # Output: {1, 2, 3, 4}"
   ]
  },
  {
   "cell_type": "markdown",
   "id": "821f3e3e",
   "metadata": {},
   "source": [
    " ### Elif and Else:\n",
    "\n",
    "Elif: elif is short for \"else if\" and is used in conditional statements to specify additional conditions to be checked if the preceding conditions are not met. It allows you to chain multiple conditions without creating nested if statements. Only the block of code associated with the first True condition or elif statement is executed.\n",
    "Else: else is used in conditional statements to specify a block of code to be executed when none of the preceding conditions are true. It is optional and can only appear once at the end of a conditional statement.\n",
    "python\n",
    "\n",
    "x = 5\n",
    "\n",
    "if x > 10:\n",
    "    print(\"x is greater than 10\")\n",
    "elif x > 5:\n",
    "    print(\"x is greater than 5\")\n",
    "else:\n",
    "    print(\"x is 5 or less\")"
   ]
  },
  {
   "cell_type": "markdown",
   "id": "8e6e740b",
   "metadata": {},
   "source": [
    "## Indexing and Reverse Indexing:\n",
    "\n",
    "Indexing: Indexing refers to accessing individual elements in a sequence, such as a string, list, or tuple, using their position. In Python, indexing starts from 0 for the first element, 1 for the second element, and so on. You can access an element at a specific index by placing the index inside square brackets [] after the sequence.\n",
    "Reverse Indexing: Reverse indexing allows you to access elements in a sequence from the end to the beginning."
   ]
  },
  {
   "cell_type": "markdown",
   "id": "65c800ce",
   "metadata": {},
   "source": [
    "## Integer and Float:\n",
    "\n",
    "Integer: Integers are whole numbers without decimal points. They can be positive or negative. For example: 5, -3, 0.\n",
    "Float: Floats, short for floating-point numbers, are numbers that contain decimal points. They can also be positive or negative. For example: 3.14, -0.5, 2.0.\n",
    "In Python, you can differentiate between the two by their representation or by using the type() function. For example:\n",
    "\n",
    "python\n",
    "\n",
    "x = 5       # Integer\n",
    "y = 3.14    # Float\n",
    "\n",
    "print(type(x))    # Output: <class 'int'>\n",
    "print(type(y))    # Output: <class 'float'>"
   ]
  },
  {
   "cell_type": "code",
   "execution_count": null,
   "id": "41dfc0c3",
   "metadata": {},
   "outputs": [],
   "source": []
  },
  {
   "cell_type": "markdown",
   "id": "81b974f9",
   "metadata": {},
   "source": [
    "## The seaborn library is a data visualization library in Python that is built on top of the matplotlib library. It provides a high-level interface for creating informative and visually appealing statistical graphics.\n",
    "\n",
    "Seaborn is commonly used for tasks such as:\n",
    "1. Data exploration and analysis: Seaborn offers several built-in functions and plot types that allow you to quickly visualize and understand the underlying patterns and relationships in your data.\n",
    "2. Statistical modeling: Seaborn provides tools for visualizing and understanding the results of statistical models. It offers functions for plotting regression models, distribution plots, and categorical plots, among others.\n",
    "3. Presentation-ready visualizations: Seaborn provides a wide range of customization options to create aesthetically pleasing and publication-quality visualizations. It allows you to easily customize colors, themes, and plot styles.\n",
    "\n",
    "Overall, seaborn is a powerful library for creating visually appealing and informative statistical visualizations, making it a valuable tool for data analysis and presentation.\n",
    "- [11:53 AM, 9/14/2023] Namata Urinde: Seaborn and Matplotlib are both popular data visualization libraries in Python, but they have some key differences in terms of functionality and usage.\n",
    "\n",
    "1. Level of Abstraction:\n",
    "   - Matplotlib: It is a low-level library that provides a wide range of plotting functions and objects. It offers fine-grained control over plot elements, allowing users to customize plots at a low level.\n",
    "   - Seaborn: It is a high-level library that is built on top of Matplotlib. Seaborn provides a simplified interface and higher-level functions for creating visually appealing statistical graphics. It abstracts away some of the complex details of Matplotlib and offers more concise syntax.\n",
    "\n",
    "2. Plot Styles:\n",
    "   - Matplotlib: It provides a wide range of plot styles, but the default styles are often considered to be less visually appealing compared to Seaborn.\n",
    "   - Seaborn: It offers a set of aesthetically pleasing default styles and themes. Seaborn's default styles are designed to enhance the visual appeal of plots and make them more suitable for data exploration and analysis.\n",
    "\n",
    "3. Plot Types:\n",
    "   - Matplotlib: It supports a wide range of plot types, including line plots, scatter plots, bar plots, histograms, etc. It provides flexibility in creating custom plots and visualizations.\n",
    "   - Seaborn: While Seaborn also supports many of the same plot types as Matplotlib, it focuses more on statistical data visualization. Seaborn provides specialized functions for creating informative statistical plots such as regression plots, box plots, violin plots, etc.\n",
    "\n",
    "4. Default Functionality:\n",
    "   - Matplotlib: It requires more code and customization to create visually appealing plots. Users have to explicitly set plot elements such as colors, labels, and legends.\n",
    "   - Seaborn: It provides enhanced default functionality and aesthetics, reducing the need for manual customization. Seaborn automatically sets sensible default values for plot elements, making it easier to create visually appealing plots with less code.\n",
    "\n",
    "In summary, Matplotlib is a powerful and flexible library that allows fine-grained control over plot elements, while Seaborn provides a higher-level interface with enhanced default functionality and focuses on statistical data visualization. Both libraries have their strengths and can be used together to create a wide range of visualizations.\n",
    "[11:59 AM, 9/14/2023] Namata Urinde: While Seaborn is a powerful data visualization library, it does have a few limitations:\n",
    "\n",
    "1. Limited Customization: Seaborn's default styles and themes are designed to be visually appealing and informative. However, if you require highly customized or unique visualizations, Seaborn may not offer as much flexibility as Matplotlib. While Seaborn does provide some customization options, it may not cover all possible customization needs.\n",
    "\n",
    "[11:59 AM, 9/14/2023] Namata Urinde: While Seaborn is a powerful data visualization library, it does have a few limitations:\n",
    "\n",
    "1. Limited Customization: Seaborn's default styles and themes are designed to be visually appealing and informative. However, if you require highly customized or unique visualizations, Seaborn may not offer as much flexibility as Matplotlib. While Seaborn does provide some customization options, it may not cover all possible customization needs.\n",
    "\n",
    "2. Limited Plot Types: Seaborn focuses more on statistical data visualization and provides specialized plot types for this purpose. While it supports many common plot types, it may not have the extensive range of plot types available in Matplotlib. If you require highly specialized or less common plot types, you may need to use Matplotlib directly.\n",
    "\n",
    "3. Dependency on Matplotlib: Seaborn is built on top of Matplotlib and relies on it for some low-level plotting functions. This means that to use Seaborn effectively, you need to have a basic understanding of Matplotlib. While Seaborn simplifies many aspects of plot creation, there may be cases where you need to use Matplotlib directly to achieve specific customization or functionality.\n",
    "\n",
    "4. Steeper Learning Curve for Advanced Features: Seaborn provides a high-level interface that simplifies the creation of common statistical visualizations. However, if you want to utilize more advanced features or customize plots extensively, a deeper understanding of the underlying statistical concepts and Seaborn's API may be required. This can result in a steeper learning curve for users who are new to data visualization or statistical analysis.\n",
    "\n",
    "Despite these limitations, Seaborn remains a popular choice for data visualization due to its ease of use, aesthetically pleasing defaults, and its ability to create informative statistical plots efficiently.\n",
    "[12:01 PM, 9/14/2023] Namata Urinde: To import and install the seaborn library in Python, you can follow these steps:\n",
    "\n",
    "1. Installing Seaborn: Open your command prompt or terminal and run the following command to install seaborn using pip:\n",
    "pip install seaborn\n",
    "2. Importing Seaborn: Once seaborn is installed, you can import it into your Python script using the  `import`  statement:\n",
    "import seaborn as sns\n",
    "By convention, seaborn is often imported as  `sns`  to make it easier to refer to the library in your code.\n",
    "\n",
    "After these steps, you can start using the seaborn library in your Python script to create data visualizations and explore its various functions and capabilities."
   ]
  },
  {
   "cell_type": "code",
   "execution_count": null,
   "id": "90ff8941",
   "metadata": {},
   "outputs": [],
   "source": []
  },
  {
   "cell_type": "code",
   "execution_count": 3,
   "id": "b7057011",
   "metadata": {},
   "outputs": [
    {
     "data": {
      "text/plain": [
       "8.0"
      ]
     },
     "execution_count": 3,
     "metadata": {},
     "output_type": "execute_result"
    }
   ],
   "source": [
    "m.sqrt(64)"
   ]
  },
  {
   "cell_type": "markdown",
   "id": "3e445762",
   "metadata": {},
   "source": [
    "## How to write polynomials "
   ]
  },
  {
   "cell_type": "code",
   "execution_count": 2,
   "id": "b0dd743d",
   "metadata": {},
   "outputs": [],
   "source": [
    "import sympy as sym\n",
    "from IPython.display import display,Math"
   ]
  },
  {
   "cell_type": "code",
   "execution_count": 4,
   "id": "de35f6c5",
   "metadata": {},
   "outputs": [
    {
     "name": "stderr",
     "output_type": "stream",
     "text": [
      "<>:3: SyntaxWarning: 'int' object is not callable; perhaps you missed a comma?\n",
      "<>:3: SyntaxWarning: 'int' object is not callable; perhaps you missed a comma?\n",
      "C:\\Users\\PC\\AppData\\Local\\Temp\\ipykernel_9252\\3011336900.py:3: SyntaxWarning: 'int' object is not callable; perhaps you missed a comma?\n",
      "  p1= 3(*2*x**3+x**2-(x-3*x**2)/2-y)\n",
      "C:\\Users\\PC\\AppData\\Local\\Temp\\ipykernel_9252\\3011336900.py:3: SyntaxWarning: 'int' object is not callable; perhaps you missed a comma?\n",
      "  p1= 3(*2*x**3+x**2-(x-3*x**2)/2-y)\n",
      "C:\\Users\\PC\\AppData\\Local\\Temp\\ipykernel_9252\\3011336900.py:3: SyntaxWarning: 'int' object is not callable; perhaps you missed a comma?\n",
      "  p1= 3(*2*x**3+x**2-(x-3*x**2)/2-y)\n",
      "C:\\Users\\PC\\AppData\\Local\\Temp\\ipykernel_9252\\3011336900.py:3: SyntaxWarning: 'int' object is not callable; perhaps you missed a comma?\n",
      "  p1= 3(*2*x**3+x**2-(x-3*x**2)/2-y)\n",
      "C:\\Users\\PC\\AppData\\Local\\Temp\\ipykernel_9252\\3011336900.py:3: SyntaxWarning: 'int' object is not callable; perhaps you missed a comma?\n",
      "  p1= 3(*2*x**3+x**2-(x-3*x**2)/2-y)\n"
     ]
    },
    {
     "ename": "TypeError",
     "evalue": "3 argument after * must be an iterable, not Add",
     "output_type": "error",
     "traceback": [
      "\u001b[1;31m---------------------------------------------------------------------------\u001b[0m",
      "\u001b[1;31mTypeError\u001b[0m                                 Traceback (most recent call last)",
      "Cell \u001b[1;32mIn[4], line 3\u001b[0m\n\u001b[0;32m      1\u001b[0m \u001b[38;5;28;01mfrom\u001b[39;00m \u001b[38;5;21;01msympy\u001b[39;00m\u001b[38;5;21;01m.\u001b[39;00m\u001b[38;5;21;01mabc\u001b[39;00m \u001b[38;5;28;01mimport\u001b[39;00m x \n\u001b[0;32m      2\u001b[0m \u001b[38;5;28;01mfrom\u001b[39;00m \u001b[38;5;21;01msympy\u001b[39;00m\u001b[38;5;21;01m.\u001b[39;00m\u001b[38;5;21;01mabc\u001b[39;00m \u001b[38;5;28;01mimport\u001b[39;00m y\n\u001b[1;32m----> 3\u001b[0m p1\u001b[38;5;241m=\u001b[39m \u001b[38;5;241m3\u001b[39m(\u001b[38;5;241m*\u001b[39m\u001b[38;5;241m2\u001b[39m\u001b[38;5;241m*\u001b[39mx\u001b[38;5;241m*\u001b[39m\u001b[38;5;241m*\u001b[39m\u001b[38;5;241m3\u001b[39m\u001b[38;5;241m+\u001b[39mx\u001b[38;5;241m*\u001b[39m\u001b[38;5;241m*\u001b[39m\u001b[38;5;241m2\u001b[39m\u001b[38;5;241m-\u001b[39m(x\u001b[38;5;241m-\u001b[39m\u001b[38;5;241m3\u001b[39m\u001b[38;5;241m*\u001b[39mx\u001b[38;5;241m*\u001b[39m\u001b[38;5;241m*\u001b[39m\u001b[38;5;241m2\u001b[39m)\u001b[38;5;241m/\u001b[39m\u001b[38;5;241m2\u001b[39m\u001b[38;5;241m-\u001b[39my)\n\u001b[0;32m      4\u001b[0m p2\u001b[38;5;241m=\u001b[39m \u001b[38;5;241m2\u001b[39m\u001b[38;5;241m*\u001b[39mx\u001b[38;5;241m*\u001b[39m\u001b[38;5;241m*\u001b[39m\u001b[38;5;241m3\u001b[39m\u001b[38;5;241m+\u001b[39mx\u001b[38;5;241m*\u001b[39m\u001b[38;5;241m*\u001b[39m\u001b[38;5;241m2\u001b[39m\u001b[38;5;241m-\u001b[39mx\n\u001b[0;32m      5\u001b[0m display(Math(\u001b[38;5;124m\"\u001b[39m\u001b[38;5;132;01m%s\u001b[39;00m\u001b[38;5;124m+\u001b[39m\u001b[38;5;132;01m%s\u001b[39;00m\u001b[38;5;124m=\u001b[39m\u001b[38;5;132;01m%s\u001b[39;00m\u001b[38;5;124m\"\u001b[39m \u001b[38;5;241m%\u001b[39m(sym\u001b[38;5;241m.\u001b[39mlatex(p1), sym\u001b[38;5;241m.\u001b[39mlatex(p2), sym\u001b[38;5;241m.\u001b[39mlatex(p1\u001b[38;5;241m+\u001b[39mp2))))\n",
      "\u001b[1;31mTypeError\u001b[0m: 3 argument after * must be an iterable, not Add"
     ]
    }
   ],
   "source": [
    "from sympy.abc import x \n",
    "from sympy.abc import y\n",
    "p1= 3(*2*x**3+x**2-(x-3*x**2)/2-y)\n",
    "p2= 2*x**3+x**2-x\n",
    "display(Math(\"%s+%s=%s\" %(sym.latex(p1), sym.latex(p2), sym.latex(p1+p2))))"
   ]
  },
  {
   "cell_type": "code",
   "execution_count": 44,
   "id": "d5e2b464",
   "metadata": {},
   "outputs": [
    {
     "data": {
      "text/latex": [
       "$\\displaystyle 2 x^{3} + \\frac{5 x^{2}}{2} - \\frac{x}{2} - y$"
      ],
      "text/plain": [
       "<IPython.core.display.Math object>"
      ]
     },
     "metadata": {},
     "output_type": "display_data"
    }
   ],
   "source": [
    "\n",
    "display(Math(sym.latex(p1)))"
   ]
  },
  {
   "cell_type": "code",
   "execution_count": 33,
   "id": "d3c9346d",
   "metadata": {},
   "outputs": [],
   "source": [
    "from fractions import Fraction"
   ]
  },
  {
   "cell_type": "code",
   "execution_count": 40,
   "id": "1f9ffd30",
   "metadata": {},
   "outputs": [
    {
     "name": "stdout",
     "output_type": "stream",
     "text": [
      "x/2\n"
     ]
    }
   ],
   "source": [
    "y=x\n",
    "print(y/2)"
   ]
  },
  {
   "cell_type": "code",
   "execution_count": 41,
   "id": "fe54b505",
   "metadata": {},
   "outputs": [],
   "source": [
    "y=(3*x**2+5*x+2)"
   ]
  },
  {
   "cell_type": "code",
   "execution_count": 42,
   "id": "d6c9d89d",
   "metadata": {},
   "outputs": [
    {
     "name": "stdout",
     "output_type": "stream",
     "text": [
      "3*x**2 + 5*x + 2\n"
     ]
    }
   ],
   "source": [
    "print(y)"
   ]
  },
  {
   "cell_type": "code",
   "execution_count": null,
   "id": "e6c44b1f",
   "metadata": {},
   "outputs": [],
   "source": []
  }
 ],
 "metadata": {
  "kernelspec": {
   "display_name": "Python 3 (ipykernel)",
   "language": "python",
   "name": "python3"
  },
  "language_info": {
   "codemirror_mode": {
    "name": "ipython",
    "version": 3
   },
   "file_extension": ".py",
   "mimetype": "text/x-python",
   "name": "python",
   "nbconvert_exporter": "python",
   "pygments_lexer": "ipython3",
   "version": "3.11.3"
  }
 },
 "nbformat": 4,
 "nbformat_minor": 5
}
