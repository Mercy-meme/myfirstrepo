{
 "cells": [
  {
   "cell_type": "markdown",
   "id": "da25d2ec",
   "metadata": {},
   "source": [
    "##Numpy Library\n",
    "\n",
    "numeric python\n",
    "*used to perform numeric python\n",
    "*uses wide range of of mathematical functions as linear,algebra,random,number generation etc"
   ]
  },
  {
   "cell_type": "code",
   "execution_count": 2,
   "id": "0a5453a0",
   "metadata": {},
   "outputs": [],
   "source": [
    "import numpy as np"
   ]
  },
  {
   "cell_type": "markdown",
   "id": "2e564e07",
   "metadata": {},
   "source": [
    "## Numpy Array Creation"
   ]
  },
  {
   "cell_type": "code",
   "execution_count": 6,
   "id": "654d4e08",
   "metadata": {},
   "outputs": [
    {
     "name": "stdout",
     "output_type": "stream",
     "text": [
      "[2 4 6 8]\n"
     ]
    }
   ],
   "source": [
    "#python list\n",
    "#import numpy as np\n",
    "list1 = [2,4,6,8]#created a list and named it list\n",
    "array1 = np.array(list1)#here we have created an array by passing list1 as an argument to the np.array()function\n",
    "print(array1)"
   ]
  },
  {
   "cell_type": "code",
   "execution_count": 7,
   "id": "372c35db",
   "metadata": {},
   "outputs": [
    {
     "name": "stdout",
     "output_type": "stream",
     "text": [
      "[2 4 6 8]\n"
     ]
    }
   ],
   "source": [
    "#instead of creatin a list and using the list1 variable as illustrated above\n",
    "array2 = np.array([2,4,6,8])#here we are directly passing the elements of the list as an argument\n",
    "print(array2)"
   ]
  },
  {
   "cell_type": "code",
   "execution_count": 8,
   "id": "23c6ddb2",
   "metadata": {},
   "outputs": [
    {
     "name": "stdout",
     "output_type": "stream",
     "text": [
      "[0. 0. 0. 0.]\n"
     ]
    }
   ],
   "source": [
    "#n.zeros\n",
    "#we are goin an array zero values\n",
    "array3 = np.zeros(4)\n",
    "print(array3)\n"
   ]
  },
  {
   "cell_type": "code",
   "execution_count": null,
   "id": "8424d79f",
   "metadata": {},
   "outputs": [],
   "source": [
    "#0 or1 can be used to replace true or false"
   ]
  },
  {
   "cell_type": "code",
   "execution_count": 9,
   "id": "1c71b5b9",
   "metadata": {},
   "outputs": [
    {
     "name": "stdout",
     "output_type": "stream",
     "text": [
      "[1. 1. 1. 1. 1. 1. 1. 1. 1. 1.]\n"
     ]
    }
   ],
   "source": [
    "#n.ones\n",
    "#we are goin an array zero values\n",
    "array4 = np.ones(10)\n",
    "print(array4)\n",
    "\n"
   ]
  },
  {
   "cell_type": "code",
   "execution_count": 11,
   "id": "323f2c74",
   "metadata": {},
   "outputs": [
    {
     "name": "stdout",
     "output_type": "stream",
     "text": [
      "[0 1 2 3 4]\n"
     ]
    }
   ],
   "source": [
    "# create an array using np.arange()\n",
    "#create an array with values from 0 to 4\n",
    "array1 = np.arange(5) #or (0,5), arrange parameters(start_value,stop_value,step)\n",
    "print(array1)"
   ]
  },
  {
   "cell_type": "code",
   "execution_count": 12,
   "id": "e76c66c0",
   "metadata": {},
   "outputs": [
    {
     "name": "stdout",
     "output_type": "stream",
     "text": [
      "[0.13832763 0.93610039 0.20975984 0.36710028 0.02252916 0.69843977\n",
      " 0.37293525 0.81254786 0.5570077  0.25210462]\n"
     ]
    }
   ],
   "source": [
    "#create variable for random numbers\n",
    "#generate 10 random numberd\n",
    "array1 = np.random.rand(10) #we assigned array1 to 10numpy.random.rand(10) generated r\n",
    "print(array1)"
   ]
  },
  {
   "cell_type": "code",
   "execution_count": null,
   "id": "baa62eba",
   "metadata": {},
   "outputs": [],
   "source": [
    "#research on how to create a random list of integers"
   ]
  },
  {
   "cell_type": "code",
   "execution_count": 19,
   "id": "9527b8f7",
   "metadata": {},
   "outputs": [
    {
     "name": "stdout",
     "output_type": "stream",
     "text": [
      "[[1 2 3 4]\n",
      " [5 6 7 8]]\n"
     ]
    }
   ],
   "source": [
    "#create a 2d numPy array\n",
    "aaray = np.array([[1,2,3,4],[5,6,7,8]])# here we created a 2d list, list of listand passed it to the np.array function\n",
    "print(aaray)"
   ]
  },
  {
   "cell_type": "code",
   "execution_count": 26,
   "id": "8b6eb1db",
   "metadata": {},
   "outputs": [
    {
     "name": "stdout",
     "output_type": "stream",
     "text": [
      "[[[ 1  2  3  4]\n",
      "  [ 5  6  7  8]\n",
      "  [ 9 10 11 12]]\n",
      "\n",
      " [[13 14 15 16]\n",
      "  [17 18 19 20]\n",
      "  [21 22 23 24]]]\n"
     ]
    }
   ],
   "source": [
    "#create a 3d array using numpy, openthe first[]bracekts,create 2 slices [],[]\n",
    "array3d = np.array([[[1,2,3,4],[5,6,7,8],\n",
    "                    [9,10,11,12]],\n",
    "                    [[13,14,15,16],[17,18,19,20],[21,22,23,24]\n",
    "                   ,]])\n",
    "print(array3d)"
   ]
  },
  {
   "cell_type": "code",
   "execution_count": 27,
   "id": "3ab6b5fb",
   "metadata": {},
   "outputs": [
    {
     "name": "stdout",
     "output_type": "stream",
     "text": [
      "[[[ 1  2  3  4]\n",
      "  [ 5  6  7  8]\n",
      "  [ 9 10 11 12]]\n",
      "\n",
      " [[13 14 15 16]\n",
      "  [17 18 19 20]\n",
      "  [21 22 23 24]]]\n"
     ]
    }
   ],
   "source": [
    "arrayx = np.array([[[1,2,3,4],[5,6,7,8],\n",
    "            [9,10,11,12]],\n",
    "           [[13,14,15,16],[17,18,19,20],[21,22,23,24]]])\n",
    "print(arrayx)\n",
    "# the outer most list contains 2 elements wc are lists representin 2 slices o the array, each slice  contains 3 rows and 4 columns. the innermost list represents individual rows\n"
   ]
  },
  {
   "cell_type": "markdown",
   "id": "cc9a28d1",
   "metadata": {},
   "source": [
    "# Numpy Attributes"
   ]
  },
  {
   "cell_type": "markdown",
   "id": "29711bc8",
   "metadata": {},
   "source": [
    "### attributes\n",
    "- ndim: returns number of dimension of the array\n",
    "- size: returns the number of elements in an array\n",
    "- dtype: returns the datatype of elements in the arrat\n",
    "- shape: returns the sixe of the array in each dimension\n",
    "- itemsize: returns the size (in bytes) of each elements in the array"
   ]
  },
  {
   "cell_type": "code",
   "execution_count": 28,
   "id": "08310b64",
   "metadata": {
    "scrolled": true
   },
   "outputs": [
    {
     "name": "stdout",
     "output_type": "stream",
     "text": [
      "2\n"
     ]
    }
   ],
   "source": [
    "arr = np.array([[2,4,6],[1,3,5]])\n",
    "print(arr.ndim) #establishing number of dimension of the array"
   ]
  },
  {
   "cell_type": "code",
   "execution_count": 29,
   "id": "e31d1630",
   "metadata": {},
   "outputs": [
    {
     "name": "stdout",
     "output_type": "stream",
     "text": [
      "[[2 4 6]\n",
      " [1 3 5]]\n"
     ]
    }
   ],
   "source": [
    "print(arr)# returns the number of elements in the array"
   ]
  },
  {
   "cell_type": "code",
   "execution_count": 30,
   "id": "e4a5209b",
   "metadata": {},
   "outputs": [
    {
     "name": "stdout",
     "output_type": "stream",
     "text": [
      "6\n"
     ]
    }
   ],
   "source": [
    "print(arr.size) #returns size of the array in each dimnsn"
   ]
  },
  {
   "cell_type": "code",
   "execution_count": 31,
   "id": "05e68116",
   "metadata": {},
   "outputs": [
    {
     "name": "stdout",
     "output_type": "stream",
     "text": [
      "(2, 3)\n"
     ]
    }
   ],
   "source": [
    "print(arr.shape)# returns shape of array-- 2 rows and 3 columns"
   ]
  },
  {
   "cell_type": "code",
   "execution_count": 32,
   "id": "911d8e17",
   "metadata": {},
   "outputs": [
    {
     "name": "stdout",
     "output_type": "stream",
     "text": [
      "int32\n"
     ]
    }
   ],
   "source": [
    "print(arr.dtype)#deatatype of elements in the array"
   ]
  },
  {
   "cell_type": "markdown",
   "id": "f5f47a94",
   "metadata": {},
   "source": [
    "## Numpy I/O"
   ]
  },
  {
   "cell_type": "markdown",
   "id": "4c5444d1",
   "metadata": {},
   "source": [
    "Numpy offers input/output(I/O) functions for loading and saving data to and from files\n",
    "- I/O supports a variety of file formats(binary, text)\n",
    "### Commonly used I/O functions\n",
    "- save(): saves an array to a binary file in the numpy .npy format\n",
    "- load(): loads data from a binary file (.npy extension)\n",
    "- savetxt: saves an array to atxt file (.txt)\n",
    "- loadtxt: loads data from a txt file"
   ]
  },
  {
   "cell_type": "code",
   "execution_count": 33,
   "id": "c1ae5b65",
   "metadata": {},
   "outputs": [],
   "source": [
    "#example for save()\n",
    "arr =np.array([[2,4,6],[1,3,5]])\n",
    "np.save('filexx10.npy',arr) #"
   ]
  },
  {
   "cell_type": "code",
   "execution_count": 34,
   "id": "c9ecae79",
   "metadata": {},
   "outputs": [
    {
     "name": "stdout",
     "output_type": "stream",
     "text": [
      "[[2 4 6]\n",
      " [1 3 5]]\n"
     ]
    }
   ],
   "source": [
    "#example to extract or load using the load\n",
    "loaded_array2 = np.load('filexx10.npy')\n",
    "print(loaded_array2)"
   ]
  },
  {
   "cell_type": "markdown",
   "id": "9809bbb6",
   "metadata": {},
   "source": [
    "## Numpy Array Indexing"
   ]
  },
  {
   "cell_type": "code",
   "execution_count": 36,
   "id": "cc1d68b7",
   "metadata": {},
   "outputs": [
    {
     "name": "stdout",
     "output_type": "stream",
     "text": [
      "1\n"
     ]
    }
   ],
   "source": [
    "#in numpy each element in array is associated with a number and the number is known as an array index\n",
    "arr1 = np.array([1,3,5,7,9])\n",
    "\n",
    "print(arr1[0])"
   ]
  },
  {
   "cell_type": "code",
   "execution_count": 37,
   "id": "ffe77c3a",
   "metadata": {},
   "outputs": [
    {
     "name": "stdout",
     "output_type": "stream",
     "text": [
      "before modification 1st element =  2\n",
      "after modification 1st element =  1000\n"
     ]
    }
   ],
   "source": [
    "#modify array elements using indexing\n",
    "numbers = np.array([2,4,6,8,10])#we have cretaed a numpy array\n",
    "print(\"before modification 1st element = \",numbers[0])\n",
    "#change the value of the first element\n",
    "numbers[0]= 1000\n",
    "print(\"after modification 1st element = \",numbers[0])"
   ]
  },
  {
   "cell_type": "code",
   "execution_count": 38,
   "id": "771df069",
   "metadata": {},
   "outputs": [
    {
     "name": "stdout",
     "output_type": "stream",
     "text": [
      "100\n"
     ]
    }
   ],
   "source": [
    "numbersx =np.array([20,40,60,80,100]) # access the,  last element\n",
    "print(numbersx[-1])"
   ]
  },
  {
   "cell_type": "code",
   "execution_count": 39,
   "id": "2ecc800c",
   "metadata": {},
   "outputs": [
    {
     "name": "stdout",
     "output_type": "stream",
     "text": [
      "80\n",
      "60\n",
      "40\n"
     ]
    }
   ],
   "source": [
    "print(numbersx[-2]) #2nd from last element\n",
    "print(numbersx[-3]) #3rd from last\n",
    "print(numbersx[-4]) #4th from last"
   ]
  },
  {
   "cell_type": "code",
   "execution_count": null,
   "id": "56e3db83",
   "metadata": {},
   "outputs": [],
   "source": [
    "#it the the process of extracting a portion of the array, can be done in 1d or 2d of numbers"
   ]
  },
  {
   "cell_type": "code",
   "execution_count": 40,
   "id": "9e54381d",
   "metadata": {},
   "outputs": [
    {
     "name": "stdout",
     "output_type": "stream",
     "text": [
      "[0 1 4 5 6 7 2 3]\n"
     ]
    }
   ],
   "source": [
    "arr1 = np.array([0,1,2,3]) #insert function has 3 arguements\n",
    "arr2 = np.array([4,5,6,7])\n",
    "#insert values of array2 on index 2 of arr1\n",
    "arr3=np.insert(arr1,2,arr2)\n",
    "print(arr3)"
   ]
  },
  {
   "cell_type": "code",
   "execution_count": 41,
   "id": "f8a25f0c",
   "metadata": {},
   "outputs": [
    {
     "name": "stdout",
     "output_type": "stream",
     "text": [
      "[0 1 4 5 7 2 3]\n"
     ]
    }
   ],
   "source": [
    "#numpy example to delete \n",
    "arr4 =np.delete(arr3,4)\n",
    "print(arr4)\n"
   ]
  },
  {
   "cell_type": "markdown",
   "id": "85ee4baa",
   "metadata": {},
   "source": [
    "## Numpy array slicing"
   ]
  },
  {
   "cell_type": "code",
   "execution_count": null,
   "id": "a508305c",
   "metadata": {},
   "outputs": [],
   "source": [
    "# A/S Is the process of extracting a portion of an arry\n",
    "#syntax\n",
    "    #array[start:stop:step]\n",
    "    #start- index of the 1st element to be included in the slice\n",
    "    #stop- index of the last element (exclusive)\n",
    "    #step- btwn each element in the slice\n",
    "    #if we omit start, slicing begins from e 1st element\n",
    "#if we omit stop slicing contiunes up to the last element\n",
    "#if we donot sepicify the step then the step size defaults to 1\n",
    "    "
   ]
  },
  {
   "cell_type": "code",
   "execution_count": 44,
   "id": "4e1f65b7",
   "metadata": {},
   "outputs": [
    {
     "name": "stdout",
     "output_type": "stream",
     "text": [
      "[5 7 8 9]\n"
     ]
    }
   ],
   "source": [
    "arr4 =np.array([1,3,5,7,8,9,2,4,6])\n",
    "#slice arr4 from index 2 to 6(exclsv)\n",
    "print(arr4[2:6])\n",
    "\n"
   ]
  },
  {
   "cell_type": "code",
   "execution_count": 45,
   "id": "6889ec91",
   "metadata": {},
   "outputs": [
    {
     "name": "stdout",
     "output_type": "stream",
     "text": [
      "[1 5 8 2]\n"
     ]
    }
   ],
   "source": [
    "print(arr4[:8:2])\n",
    "#slice from index 0 to index 8 using step of 2\n"
   ]
  },
  {
   "cell_type": "code",
   "execution_count": 46,
   "id": "2657ef08",
   "metadata": {},
   "outputs": [
    {
     "name": "stdout",
     "output_type": "stream",
     "text": [
      "[7 8 9 2 4 6]\n"
     ]
    }
   ],
   "source": [
    "#slice from index 3 to the last element,if we put a : it naturally ends on the stop value\n",
    "print(arr4[3:]) "
   ]
  },
  {
   "cell_type": "code",
   "execution_count": 47,
   "id": "e3134bd9",
   "metadata": {},
   "outputs": [
    {
     "name": "stdout",
     "output_type": "stream",
     "text": [
      "[1 3 5 7 8 9 2 4 6]\n"
     ]
    }
   ],
   "source": [
    "print(arr4[:])#prints the whole array, if the stop and start value are not speficied"
   ]
  },
  {
   "cell_type": "code",
   "execution_count": 48,
   "id": "a40164fb",
   "metadata": {},
   "outputs": [
    {
     "name": "stdout",
     "output_type": "stream",
     "text": [
      "[ 2 15 15 15 15]\n"
     ]
    }
   ],
   "source": [
    "#modify elements using slicing\n",
    "numbers =np.array([2,4,6,8,10])# modifying or replacing all elements starting from index 1 to the last element\n",
    "numbers[1:]=15\n",
    "print(numbers)"
   ]
  },
  {
   "cell_type": "code",
   "execution_count": 49,
   "id": "85f465c6",
   "metadata": {},
   "outputs": [
    {
     "name": "stdout",
     "output_type": "stream",
     "text": [
      "[15 15  6  8 10]\n"
     ]
    }
   ],
   "source": [
    "numbers =np.array([2,4,6,8,10])# modifying or replacing all element before index 2\n",
    "numbers[:2]=15 #replaced all numbers before index 2 ie numbers in index 0 and 1 with 15\n",
    "print(numbers)"
   ]
  },
  {
   "cell_type": "code",
   "execution_count": 3,
   "id": "5b3b398e",
   "metadata": {},
   "outputs": [
    {
     "name": "stdout",
     "output_type": "stream",
     "text": [
      "[ 2 15  6 15 10]\n"
     ]
    }
   ],
   "source": [
    "numbers =np.array([2,4,6,8,10])# modifying or replacing all elements  between 1 to 4 replacing each vvalue  on the step size of 2\n",
    "numbers[1:5:2]=15\n",
    "print(numbers)"
   ]
  },
  {
   "cell_type": "code",
   "execution_count": 52,
   "id": "8d951160",
   "metadata": {},
   "outputs": [
    {
     "name": "stdout",
     "output_type": "stream",
     "text": [
      "[ 6 15 10]\n"
     ]
    }
   ],
   "source": [
    "#negative slicing\n",
    "print(numbers[-3:]) # slices the last 3 elements of the array"
   ]
  },
  {
   "cell_type": "code",
   "execution_count": 54,
   "id": "6073cac7",
   "metadata": {},
   "outputs": [
    {
     "name": "stdout",
     "output_type": "stream",
     "text": [
      "[ 6 15]\n"
     ]
    }
   ],
   "source": [
    "print(numbers[-3:-1])"
   ]
  },
  {
   "cell_type": "code",
   "execution_count": 55,
   "id": "dcef2fe7",
   "metadata": {},
   "outputs": [
    {
     "name": "stdout",
     "output_type": "stream",
     "text": [
      "[10  6  2]\n"
     ]
    }
   ],
   "source": [
    "print(numbers[-1::-2]) #negative slicing with a step of 2 "
   ]
  },
  {
   "cell_type": "markdown",
   "id": "092cb7be",
   "metadata": {},
   "source": [
    "# Pandas"
   ]
  },
  {
   "cell_type": "markdown",
   "id": "13f12f51",
   "metadata": {},
   "source": [
    "- is an open source python library\n",
    "providing high perfomance data manipluation using its powerful data structures\n",
    "- features of pandas :\n",
    "1. optimal performance ie it is fast and efficient,highly responsive\n",
    "2. joining and merging datasets-\n",
    "3. supports multiple file formats- reads and analyses data like Excel, CSV,jason and HDF5\n",
    "4. data cleaning\n",
    "5. tools for input and output, indexing and alignment, handling of missing data\n",
    "- pandas is used in a wide range of fields including academic and commercial domains(finance,economics,stats,etc)\n",
    "## Pandas deals with the following data structures\n",
    "- series\n",
    "- dataframes\n",
    "- panel\n",
    "for this course we use series and dataframes"
   ]
  },
  {
   "cell_type": "code",
   "execution_count": 57,
   "id": "30e2453a",
   "metadata": {},
   "outputs": [],
   "source": [
    "import pandas as pd #to install panda we run that code"
   ]
  },
  {
   "cell_type": "markdown",
   "id": "5ad7063b",
   "metadata": {},
   "source": [
    "## Python Panda Series"
   ]
  },
  {
   "cell_type": "code",
   "execution_count": null,
   "id": "c5ff88cb",
   "metadata": {},
   "outputs": [],
   "source": [
    "#a pandas series can be constructed using the following syntaz:\n",
    "#pandas.series(data,index,dtype,copy)\n",
    "#A Pandas Series is like a column in a table.\n",
    "#It is a one-dimensional array holding data of any type."
   ]
  },
  {
   "cell_type": "code",
   "execution_count": 58,
   "id": "d261701a",
   "metadata": {},
   "outputs": [
    {
     "name": "stdout",
     "output_type": "stream",
     "text": [
      "0     John\n",
      "1    Peter\n",
      "2      Tom\n",
      "3     Mary\n",
      "dtype: object\n"
     ]
    }
   ],
   "source": [
    "#series example to create series in numpy array\n",
    "import numpy as np\n",
    "data = np.array(['John','Peter','Tom','Mary']) #we are converting array in to a series\n",
    "sd = pd.Series(data)\n",
    "print(sd)"
   ]
  },
  {
   "cell_type": "code",
   "execution_count": 4,
   "id": "30af63c6",
   "metadata": {},
   "outputs": [
    {
     "name": "stdout",
     "output_type": "stream",
     "text": [
      "0    1\n",
      "1    7\n",
      "2    2\n",
      "dtype: int64\n"
     ]
    }
   ],
   "source": [
    "import pandas as pd\n",
    "\n",
    "a = [1, 7, 2]\n",
    "\n",
    "myvar = pd.Series(a)\n",
    "\n",
    "print(myvar)"
   ]
  },
  {
   "cell_type": "code",
   "execution_count": 61,
   "id": "935b7132",
   "metadata": {},
   "outputs": [
    {
     "name": "stdout",
     "output_type": "stream",
     "text": [
      "a    0.0\n",
      "b    1.0\n",
      "c    2.0\n",
      "dtype: float64\n"
     ]
    }
   ],
   "source": [
    "#create a series from a dictionary\n",
    "data2 ={'a':0.,'b':1.,'c':2.} #dictionary keys are used to connstruct indexes\n",
    "s = pd.Series(data2) # conveted data2 from dict to series s\n",
    "print(s)"
   ]
  },
  {
   "cell_type": "code",
   "execution_count": 63,
   "id": "bf6c4e29",
   "metadata": {},
   "outputs": [
    {
     "name": "stdout",
     "output_type": "stream",
     "text": [
      "b    1.0\n",
      "c    2.0\n",
      "d    NaN\n",
      "a    0.0\n",
      "dtype: float64\n"
     ]
    }
   ],
   "source": [
    "data3 ={'a':0.,'b':1.,'c':2.} \n",
    "sdx = pd.Series(data2,index=['b','c','d','a']) #if the index parameters is passed the values indata corresponding  \n",
    "                                                #to the labels in the index is pulled out\n",
    "\n",
    "print(sdx)\n",
    "#NaN MEANS NOT A NUMBER because d doesnt exst\n"
   ]
  },
  {
   "cell_type": "markdown",
   "id": "b4c53482",
   "metadata": {},
   "source": [
    "## Panda -Series"
   ]
  },
  {
   "cell_type": "code",
   "execution_count": 28,
   "id": "0eb8eed3",
   "metadata": {
    "scrolled": true
   },
   "outputs": [
    {
     "name": "stdout",
     "output_type": "stream",
     "text": [
      "i      1\n",
      "ii     2\n",
      "iii    3\n",
      "iv     4\n",
      "v      5\n",
      "dtype: int64\n",
      "-----------------------------------------------------\n",
      "i      1\n",
      "ii     2\n",
      "iii    3\n",
      "dtype: int64\n",
      "******************************************\n",
      "1\n"
     ]
    }
   ],
   "source": [
    "z= pd.Series([1,2,3,4,5,],index=['i','ii','iii','iv','v'])\n",
    "print(z) #index wth five elements i to v\n",
    "print('-----------------------------------------------------')\n",
    "\n",
    "#retrieve the first 3 elements\n",
    "print(z[:3])\n",
    "print('******************************************')\n",
    "#example to print a particular index \n",
    "print(z[0])"
   ]
  },
  {
   "cell_type": "code",
   "execution_count": null,
   "id": "15b89dd0",
   "metadata": {},
   "outputs": [],
   "source": []
  },
  {
   "cell_type": "markdown",
   "id": "e0868dab",
   "metadata": {},
   "source": [
    "## Python panda- DATAFRAME"
   ]
  },
  {
   "cell_type": "markdown",
   "id": "3a60ad99",
   "metadata": {},
   "source": [
    "<img src =\"dataframe image.png\"/>"
   ]
  },
  {
   "cell_type": "markdown",
   "id": "1efa022c",
   "metadata": {},
   "source": [
    "## Importing images "
   ]
  },
  {
   "cell_type": "code",
   "execution_count": null,
   "id": "f8c0893c",
   "metadata": {},
   "outputs": [],
   "source": [
    "#syntax for importing images,image name, image, then select markdown file type \n",
    "# <img src =\"dataframe image.png\"/>"
   ]
  },
  {
   "cell_type": "markdown",
   "id": "611eb593",
   "metadata": {},
   "source": [
    "* Pandas DataFrame is two-dimensional size-mutable, potentially heterogeneous tabular data structure with labeled axes (rows and columns).\n",
    "* A Data frame is a two-dimensional data structure, i.e., data is aligned in a tabular fashion in rows and columns.\n",
    "* Pandas DataFrame consists of three principal components, the data, rows, and colum"
   ]
  },
  {
   "cell_type": "markdown",
   "id": "e93328ad",
   "metadata": {},
   "source": [
    "a pandas dataframe can be created using the following constructor:\n"
   ]
  },
  {
   "cell_type": "code",
   "execution_count": null,
   "id": "c6af1c41",
   "metadata": {},
   "outputs": [],
   "source": [
    "# pandas.Dataframe(data,index,columns,dtype,copy) data has to be present when creating a df other parameters are optional, you may not specify\n",
    "#  we can create a pandas dataframe using inputs like \n",
    "    #list,dict,series, numpy,ndarrays"
   ]
  },
  {
   "cell_type": "code",
   "execution_count": 14,
   "id": "5b608da0",
   "metadata": {},
   "outputs": [
    {
     "name": "stdout",
     "output_type": "stream",
     "text": [
      "Empty DataFrame\n",
      "Columns: []\n",
      "Index: []\n"
     ]
    }
   ],
   "source": [
    "#create an empty dataframe\n",
    "import pandas as pd\n",
    "df =pd.DataFrame()\n",
    "print(df)"
   ]
  },
  {
   "cell_type": "code",
   "execution_count": 67,
   "id": "74112581",
   "metadata": {},
   "outputs": [
    {
     "name": "stdout",
     "output_type": "stream",
     "text": [
      "        0   1\n",
      "0    Alex  10\n",
      "1  Nelson  12\n",
      "2     Max  12\n",
      "------------------------------------------------------\n",
      "     Name  Age\n",
      "0    Alex   10\n",
      "1  Nelson   12\n",
      "2     Max   12\n"
     ]
    }
   ],
   "source": [
    "#creating a Df from a list\n",
    "data = [['Alex',10],['Nelson',12],['Max',12]] #CREATED A LIST\n",
    "df =pd.DataFrame(data)\n",
    "print(df)\n",
    "print('------------------------------------------------------')\n",
    "df= pd.DataFrame(data,columns=['Name','Age']) #introduce column headers in this case its name and sge\n",
    "print(df)"
   ]
  },
  {
   "cell_type": "code",
   "execution_count": 68,
   "id": "1002ffe7",
   "metadata": {},
   "outputs": [],
   "source": [
    "df['gender']=pd.DataFrame(['male','female','male'])# how to add additional column/variable to a DF"
   ]
  },
  {
   "cell_type": "code",
   "execution_count": 69,
   "id": "d1131d3b",
   "metadata": {},
   "outputs": [
    {
     "name": "stdout",
     "output_type": "stream",
     "text": [
      "     Name  Age  gender\n",
      "0    Alex   10    male\n",
      "1  Nelson   12  female\n",
      "2     Max   12    male\n"
     ]
    }
   ],
   "source": [
    "print(df)"
   ]
  },
  {
   "cell_type": "code",
   "execution_count": 70,
   "id": "d917f709",
   "metadata": {},
   "outputs": [
    {
     "name": "stdout",
     "output_type": "stream",
     "text": [
      "   Age  gender\n",
      "0   10    male\n",
      "1   12  female\n",
      "2   12    male\n"
     ]
    }
   ],
   "source": [
    "#delete column\n",
    "#columns can be deleted using del or pop\n",
    "del df['Name']\n",
    "print(df)"
   ]
  },
  {
   "cell_type": "code",
   "execution_count": 71,
   "id": "6dbbf2ef",
   "metadata": {},
   "outputs": [
    {
     "name": "stdout",
     "output_type": "stream",
     "text": [
      "   gender\n",
      "0    male\n",
      "1  female\n",
      "2    male\n"
     ]
    }
   ],
   "source": [
    "df.pop('Age')\n",
    "print(df)"
   ]
  },
  {
   "cell_type": "code",
   "execution_count": 16,
   "id": "37dff245",
   "metadata": {},
   "outputs": [
    {
     "name": "stdout",
     "output_type": "stream",
     "text": [
      "   one  two\n",
      "a  1.0    1\n",
      "b  2.0    2\n",
      "c  3.0    3\n",
      "d  NaN    4\n"
     ]
    }
   ],
   "source": [
    "#slice Rows in a dataframe using ':' operator\n",
    "dict1 ={'one': pd.Series([1,2,3], index=['a','b','c']),\n",
    "        'two': pd.Series([1,2,3,4], index=['a','b','c','d'])}\n",
    "df1 =pd.DataFrame(dict1)\n",
    "print(df1)"
   ]
  },
  {
   "cell_type": "code",
   "execution_count": 17,
   "id": "be8542fc",
   "metadata": {
    "scrolled": true
   },
   "outputs": [
    {
     "name": "stdout",
     "output_type": "stream",
     "text": [
      "   one  two\n",
      "b  2.0    2\n",
      "c  3.0    3\n",
      "d  NaN    4\n"
     ]
    }
   ],
   "source": [
    "print(df1[1:4])#slice or extract data from row 2 to row 4"
   ]
  },
  {
   "cell_type": "code",
   "execution_count": 18,
   "id": "c1e96119",
   "metadata": {},
   "outputs": [
    {
     "name": "stdout",
     "output_type": "stream",
     "text": [
      "   one  two\n",
      "a  1.0    1\n",
      "b  2.0    2\n"
     ]
    }
   ],
   "source": [
    "print(df1[:2])"
   ]
  },
  {
   "cell_type": "markdown",
   "id": "063bb372",
   "metadata": {},
   "source": [
    "## Library -matplotlib\n",
    "- is a python library used to graphically represent data thru usage of graphs\n",
    "- it is used for creating static,animatedpolts or figures\n",
    "- pictorial view of data"
   ]
  },
  {
   "cell_type": "markdown",
   "id": "c4f220eb",
   "metadata": {},
   "source": [
    "#how to install matplotlib\n",
    "#pip install matplotlib"
   ]
  },
  {
   "cell_type": "code",
   "execution_count": 75,
   "id": "b7015d01",
   "metadata": {},
   "outputs": [],
   "source": [
    "import matplotlib.pyplot as plt"
   ]
  },
  {
   "cell_type": "code",
   "execution_count": 76,
   "id": "b8eaecc2",
   "metadata": {
    "scrolled": true
   },
   "outputs": [
    {
     "data": {
      "image/png": "[encoded data removed]",
      "text/plain": [
       "<Figure size 640x480 with 1 Axes>"
      ]
     },
     "metadata": {},
     "output_type": "display_data"
    }
   ],
   "source": [
    "date=[\"26/8\",\"27/8\",\"28/8\"]# we assigned date variable to store dates\n",
    "temp=[8.5,10.5,6.8]#list storing temp\n",
    "plt.plot(date,temp)# plot func requires 2 parameters each value for x and y axis respectlively\n",
    "plt.show()"
   ]
  },
  {
   "cell_type": "markdown",
   "id": "f59dd0f5",
   "metadata": {},
   "source": [
    "### Customisation of plots"
   ]
  },
  {
   "cell_type": "markdown",
   "id": "0d33fcaa",
   "metadata": {},
   "source": [
    "-pyplot library gives us numerous functions which can be used to customise charts as adding legends or titles ###list of functions to customise plots\n",
    "<img src = \"ppl.jpg\"/>"
   ]
  },
  {
   "cell_type": "code",
   "execution_count": 78,
   "id": "b96f7d9a",
   "metadata": {},
   "outputs": [
    {
     "data": {
      "image/png": "[encoded data removed]",
      "text/plain": [
       "<Figure size 640x480 with 1 Axes>"
      ]
     },
     "metadata": {},
     "output_type": "display_data"
    }
   ],
   "source": [
    "import matplotlib.pyplot as plt\n",
    "#adding chart title, labels for both x and y axis\n",
    "date=[\"26/8\",\"27/8\",\"28/8\"]# we assigned date variable to store dates\n",
    "temp=[8.5,10.5,6.8]#list storing temp\n",
    "plt.xlabel(\"Date\")# add label on x-axis\n",
    "plt.ylabel(\"Temperature\")#add label on y axis\n",
    "plt.title(\"Chinhoyi temperature\")\n",
    "plt.grid(True)\n",
    "plt.plot(date,temp)# plot func requires 2 parameters each value for x and y axis respectlively\n",
    "plt.show()"
   ]
  },
  {
   "cell_type": "code",
   "execution_count": null,
   "id": "d39ce6b7",
   "metadata": {},
   "outputs": [],
   "source": [
    "Name Age\n",
    "Alex 10\n",
    "nelson 15 max 12"
   ]
  },
  {
   "cell_type": "code",
   "execution_count": 79,
   "id": "ee883cc3",
   "metadata": {},
   "outputs": [
    {
     "data": {
      "text/plain": [
       "<function matplotlib.pyplot.show(close=None, block=None)>"
      ]
     },
     "execution_count": 79,
     "metadata": {},
     "output_type": "execute_result"
    },
    {
     "data": {
      "image/png": "[encoded data removed]",
      "text/plain": [
       "<Figure size 640x480 with 1 Axes>"
      ]
     },
     "metadata": {},
     "output_type": "display_data"
    }
   ],
   "source": [
    "Name=[\"Alex\",\"Nelson\",\"Max\"]\n",
    "Age=[10,15,12]\n",
    "plt.xlabel\n",
    "plt.ylabel\n",
    "plt.plot(Name,Age)\n",
    "plt.show"
   ]
  },
  {
   "cell_type": "markdown",
   "id": "edd5d251",
   "metadata": {},
   "source": [
    "# Marker"
   ]
  },
  {
   "cell_type": "markdown",
   "id": "804e9f72",
   "metadata": {},
   "source": [
    "A marker is any symbol that represents a data value in a line chart or scatter plot\n",
    "#insert the image\n",
    "<img src= \"mrk.jpg\"/>"
   ]
  },
  {
   "cell_type": "markdown",
   "id": "b074f7ee",
   "metadata": {},
   "source": [
    "## Color \n",
    "Python pyplot library allows the use of colors on the plotted data\n",
    "<img src= 'clr.jpeg'/>"
   ]
  },
  {
   "cell_type": "markdown",
   "id": "60058afd",
   "metadata": {},
   "source": [
    "## Line width and line style"
   ]
  },
  {
   "cell_type": "markdown",
   "id": "096dd66e",
   "metadata": {},
   "source": [
    "* linewidth can be thicker in input depending on the value assigned to the thichkness of the line,by default the line width is:1'\n",
    "* so the greather the number the thicker the line"
   ]
  },
  {
   "cell_type": "markdown",
   "id": "4398c4a3",
   "metadata": {},
   "source": [
    "line styles comes with different styles such as \"solid\",\"dotted\",\"dashed\" etc\n"
   ]
  },
  {
   "cell_type": "code",
   "execution_count": 24,
   "id": "8ac0da0d",
   "metadata": {},
   "outputs": [],
   "source": [
    "import matplotlib.pyplot as plt\n",
    "import pandas as pd"
   ]
  },
  {
   "cell_type": "code",
   "execution_count": 33,
   "id": "f87ec4e8",
   "metadata": {},
   "outputs": [
    {
     "data": {
      "image/png": "[encoded data removed]",
      "text/plain": [
       "<Figure size 640x480 with 1 Axes>"
      ]
     },
     "metadata": {},
     "output_type": "display_data"
    }
   ],
   "source": [
    "#example lets infuse marker, colour, and line properties\n",
    "height =[120,121,125,130,140,90,182,190,150]\n",
    "weight = [45,89,90,100,75,60,80,87,60]\n",
    "df = pd.DataFrame({\"height\":height,\"weight\":weight})\n",
    "plt.xlabel('Weight in kgs')\n",
    "plt.ylabel('height in cm')\n",
    "plt.title(\"Average for Big Data Students\")\n",
    "#use of markers and line colour\n",
    "plt.plot(df.weight,df.height,marker=\"o\",markersize=6,color='g',linewidth=2)\n",
    "plt.show()"
   ]
  },
  {
   "cell_type": "markdown",
   "id": "a4064b84",
   "metadata": {},
   "source": [
    "# Pie chart\n",
    "type of graph with a circle that is divided into different sectors , each sector representing part of the whole"
   ]
  },
  {
   "cell_type": "code",
   "execution_count": 87,
   "id": "7b4f3884",
   "metadata": {},
   "outputs": [
    {
     "data": {
      "image/png": "[encoded data removed]",
      "text/plain": [
       "<Figure size 640x480 with 1 Axes>"
      ]
     },
     "metadata": {},
     "output_type": "display_data"
    }
   ],
   "source": [
    "#create pie chat using a df with information about the planet's mass and radius.\n",
    "df = pd.DataFrame({'mass':[0.330,4.87,5.97],'radius':[2439.4,6051.5,6378.1]},\n",
    "index=['mercury','venus','earth'])\n",
    "df.plot(kind='pie',y='mass')\n",
    "plt.show()"
   ]
  },
  {
   "cell_type": "code",
   "execution_count": 88,
   "id": "49730bee",
   "metadata": {},
   "outputs": [
    {
     "data": {
      "image/png": "[encoded data removed]",
      "text/plain": [
       "<Figure size 640x480 with 1 Axes>"
      ]
     },
     "metadata": {},
     "output_type": "display_data"
    }
   ],
   "source": [
    "import matplotlib.pyplot as plt\n",
    "import numpy as np\n",
    "\n",
    "y = np.array([35, 25, 25, 15])\n",
    "mylabels = [\"Apples\", \"Bananas\", \"Cherries\", \"Dates\"]\n",
    "mycolors = [\"black\", \"hotpink\", \"b\", \"#4CAF50\"]\n",
    "\n",
    "plt.pie(y, labels = mylabels, colors = mycolors)\n",
    "\n",
    "plt.show()"
   ]
  },
  {
   "cell_type": "code",
   "execution_count": null,
   "id": "60efaa5a",
   "metadata": {},
   "outputs": [],
   "source": [
    "## plotting scatter chart\n",
    "#Example Chirasha investment sells designer shoes and hats, during the peak season\n",
    "#and he gives discounts ranging from 10% to 50% over a period of 5 weeks\n",
    "#sales were recorded in an array for each discount type\n",
    "#draw a scatter plot to show the r/ship btwn thw discnt offered and sales made\n",
    "#hint to draw or plot scatter plot use this command- plt.scatter(x-discount, y-sales)"
   ]
  },
  {
   "cell_type": "code",
   "execution_count": 1,
   "id": "90dad2fc",
   "metadata": {},
   "outputs": [],
   "source": [
    "import pandas as pd"
   ]
  },
  {
   "cell_type": "code",
   "execution_count": 2,
   "id": "6cdcbd11",
   "metadata": {},
   "outputs": [],
   "source": [
    "import matplotlib.pyplot as plt"
   ]
  },
  {
   "cell_type": "code",
   "execution_count": 3,
   "id": "594deeef",
   "metadata": {
    "scrolled": true
   },
   "outputs": [
    {
     "data": {
      "image/png": "[encoded data removed]",
      "text/plain": [
       "<Figure size 640x480 with 1 Axes>"
      ]
     },
     "metadata": {},
     "output_type": "display_data"
    }
   ],
   "source": [
    "discount=[10,20,30,40,50]\n",
    "sales=[100,500,1750,1880,3050]\n",
    "df=pd.DataFrame({\"discount\":discount , \"sales\":sales})\n",
    "plt.xlabel (\"discount in %\")\n",
    "plt.ylabel (\"sales in $\")\n",
    "plt.title('Discount offered versus sales made')\n",
    "plt.scatter(df.discount,df.sales)\n",
    "plt.show()"
   ]
  },
  {
   "cell_type": "code",
   "execution_count": 27,
   "id": "02c3efd0",
   "metadata": {
    "scrolled": true
   },
   "outputs": [
    {
     "data": {
      "image/png": "[encoded data removed]",
      "text/plain": [
       "<Figure size 640x480 with 1 Axes>"
      ]
     },
     "metadata": {},
     "output_type": "display_data"
    }
   ],
   "source": [
    "\n",
    "plt.xlabel(\"discount\")\n",
    "plt.ylabel(\"sales\")\n",
    "plt.title(\"Discount offered versus sales made\")\n",
    "plt.scatter(df.discount,df.sales)\n",
    "plt.show()"
   ]
  },
  {
   "cell_type": "code",
   "execution_count": 26,
   "id": "4824a512",
   "metadata": {},
   "outputs": [
    {
     "data": {
      "text/html": [
       "<div>\n",
       "<style scoped>\n",
       "    .dataframe tbody tr th:only-of-type {\n",
       "        vertical-align: middle;\n",
       "    }\n",
       "\n",
       "    .dataframe tbody tr th {\n",
       "        vertical-align: top;\n",
       "    }\n",
       "\n",
       "    .dataframe thead th {\n",
       "        text-align: right;\n",
       "    }\n",
       "</style>\n",
       "<table border=\"1\" class=\"dataframe\">\n",
       "  <thead>\n",
       "    <tr style=\"text-align: right;\">\n",
       "      <th></th>\n",
       "      <th>discount</th>\n",
       "      <th>sales</th>\n",
       "    </tr>\n",
       "  </thead>\n",
       "  <tbody>\n",
       "    <tr>\n",
       "      <th>0</th>\n",
       "      <td>10</td>\n",
       "      <td>100</td>\n",
       "    </tr>\n",
       "    <tr>\n",
       "      <th>1</th>\n",
       "      <td>20</td>\n",
       "      <td>52</td>\n",
       "    </tr>\n",
       "    <tr>\n",
       "      <th>2</th>\n",
       "      <td>30</td>\n",
       "      <td>33</td>\n",
       "    </tr>\n",
       "    <tr>\n",
       "      <th>3</th>\n",
       "      <td>40</td>\n",
       "      <td>74</td>\n",
       "    </tr>\n",
       "    <tr>\n",
       "      <th>4</th>\n",
       "      <td>50</td>\n",
       "      <td>65</td>\n",
       "    </tr>\n",
       "  </tbody>\n",
       "</table>\n",
       "</div>"
      ],
      "text/plain": [
       "   discount  sales\n",
       "0        10    100\n",
       "1        20     52\n",
       "2        30     33\n",
       "3        40     74\n",
       "4        50     65"
      ]
     },
     "execution_count": 26,
     "metadata": {},
     "output_type": "execute_result"
    }
   ],
   "source": [
    "import matplotlib.pyplot as plt\n",
    "\n",
    "discount=[10,20,30,40,50]\n",
    "sales=[100,52,33,74,65]\n",
    "# producing a scatter plot\n",
    "df=pd.DataFrame({'discount': discount, 'sales':sales})\n",
    "\n",
    "df"
   ]
  },
  {
   "cell_type": "code",
   "execution_count": null,
   "id": "deeee32c",
   "metadata": {},
   "outputs": [],
   "source": []
  }
 ],
 "metadata": {
  "kernelspec": {
   "display_name": "Python 3 (ipykernel)",
   "language": "python",
   "name": "python3"
  },
  "language_info": {
   "codemirror_mode": {
    "name": "ipython",
    "version": 3
   },
   "file_extension": ".py",
   "mimetype": "text/x-python",
   "name": "python",
   "nbconvert_exporter": "python",
   "pygments_lexer": "ipython3",
   "version": "3.11.3"
  }
 },
 "nbformat": 4,
 "nbformat_minor": 5
}
